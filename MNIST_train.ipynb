{
 "cells": [
  {
   "cell_type": "code",
   "execution_count": 1,
   "id": "1305069a",
   "metadata": {},
   "outputs": [
    {
     "name": "stdout",
     "output_type": "stream",
     "text": [
      "Collecting tensor\n",
      "  Downloading tensor-0.3.6.tar.gz (50 kB)\n",
      "Collecting flow\n",
      "  Downloading flow-0.0.1.tar.gz (5.2 kB)\n",
      "Collecting Twisted\n",
      "  Downloading Twisted-21.2.0-py3-none-any.whl (3.1 MB)\n",
      "Requirement already satisfied: PyYaml in d:\\softwares\\anaconda\\anaconda\\lib\\site-packages (from tensor) (5.4.1)\n",
      "Requirement already satisfied: protobuf in d:\\softwares\\anaconda\\anaconda\\lib\\site-packages (from tensor) (3.17.1)\n",
      "Collecting construct\n",
      "  Downloading construct-2.10.67.tar.gz (57 kB)\n",
      "Collecting pysnmp\n",
      "  Downloading pysnmp-4.4.12-py2.py3-none-any.whl (296 kB)\n",
      "Requirement already satisfied: six>=1.9 in d:\\softwares\\anaconda\\anaconda\\lib\\site-packages (from protobuf->tensor) (1.15.0)\n",
      "Collecting pysmi\n",
      "  Downloading pysmi-0.3.4-py2.py3-none-any.whl (80 kB)\n",
      "Requirement already satisfied: pyasn1>=0.2.3 in d:\\softwares\\anaconda\\anaconda\\lib\\site-packages (from pysnmp->tensor) (0.4.8)\n",
      "Collecting pycryptodomex\n",
      "  Downloading pycryptodomex-3.10.1-cp35-abi3-win_amd64.whl (1.6 MB)\n",
      "Requirement already satisfied: ply in d:\\softwares\\anaconda\\anaconda\\lib\\site-packages (from pysmi->pysnmp->tensor) (3.11)\n",
      "Collecting twisted-iocpsupport~=1.0.0\n",
      "  Downloading twisted_iocpsupport-1.0.1-cp38-cp38-win_amd64.whl (45 kB)\n",
      "Collecting constantly>=15.1\n",
      "  Downloading constantly-15.1.0-py2.py3-none-any.whl (7.9 kB)\n",
      "Requirement already satisfied: zope.interface>=4.4.2 in d:\\softwares\\anaconda\\anaconda\\lib\\site-packages (from Twisted->tensor) (5.3.0)\n",
      "Collecting incremental>=16.10.1\n",
      "  Downloading incremental-21.3.0-py2.py3-none-any.whl (15 kB)\n",
      "Collecting hyperlink>=17.1.1\n",
      "  Downloading hyperlink-21.0.0-py2.py3-none-any.whl (74 kB)\n",
      "Requirement already satisfied: attrs>=19.2.0 in d:\\softwares\\anaconda\\anaconda\\lib\\site-packages (from Twisted->tensor) (20.3.0)\n",
      "Collecting Automat>=0.8.0\n",
      "  Downloading Automat-20.2.0-py2.py3-none-any.whl (31 kB)\n",
      "Requirement already satisfied: idna>=2.5 in d:\\softwares\\anaconda\\anaconda\\lib\\site-packages (from hyperlink>=17.1.1->Twisted->tensor) (2.10)\n",
      "Requirement already satisfied: setuptools in d:\\softwares\\anaconda\\anaconda\\lib\\site-packages (from zope.interface>=4.4.2->Twisted->tensor) (52.0.0.post20210125)\n",
      "Building wheels for collected packages: flow, tensor, construct\n",
      "  Building wheel for flow (setup.py): started\n",
      "  Building wheel for flow (setup.py): finished with status 'done'\n",
      "  Created wheel for flow: filename=flow-0.0.1-py3-none-any.whl size=7854 sha256=5a7eda5b97996d23bce0fb0371e5598663635edbf9d486347d85a21c794d394e\n",
      "  Stored in directory: c:\\users\\rmadh\\appdata\\local\\pip\\cache\\wheels\\5b\\8e\\50\\b9381a30786947dd8a710237bac7108649b8cd80430f026b4e\n",
      "  Building wheel for tensor (setup.py): started\n",
      "  Building wheel for tensor (setup.py): finished with status 'done'\n",
      "  Created wheel for tensor: filename=tensor-0.3.6-py3-none-any.whl size=71568 sha256=ac98b12b85d289b694e2019b5c08ced8f26d4764616f3c027b93e1f7cd6ae87a\n",
      "  Stored in directory: c:\\users\\rmadh\\appdata\\local\\pip\\cache\\wheels\\a8\\4e\\f1\\bb2a5de7e97bf4cda65db23ca21cecc54772d9ecf065460983\n",
      "  Building wheel for construct (setup.py): started\n",
      "  Building wheel for construct (setup.py): finished with status 'done'\n",
      "  Created wheel for construct: filename=construct-2.10.67-py3-none-any.whl size=59037 sha256=b97c6ed25766529dfa5f95ab8f1d54c6125f5fc4b06493f7cf45c15145e623fc\n",
      "  Stored in directory: c:\\users\\rmadh\\appdata\\local\\pip\\cache\\wheels\\e3\\4e\\be\\d56811047059833c9eaa777779b57d6e86b34c836f050a7745\n",
      "Successfully built flow tensor construct\n",
      "Installing collected packages: twisted-iocpsupport, pysmi, pycryptodomex, incremental, hyperlink, constantly, Automat, Twisted, pysnmp, construct, tensor, flow\n",
      "Successfully installed Automat-20.2.0 Twisted-21.2.0 constantly-15.1.0 construct-2.10.67 flow-0.0.1 hyperlink-21.0.0 incremental-21.3.0 pycryptodomex-3.10.1 pysmi-0.3.4 pysnmp-4.4.12 tensor-0.3.6 twisted-iocpsupport-1.0.1\n"
     ]
    }
   ],
   "source": [
    "!pip install tensor flow\n"
   ]
  },
  {
   "cell_type": "code",
   "execution_count": 2,
   "id": "a7a12a8a",
   "metadata": {},
   "outputs": [
    {
     "name": "stdout",
     "output_type": "stream",
     "text": [
      "Collecting keras\n",
      "  Downloading Keras-2.4.3-py2.py3-none-any.whl (36 kB)\n",
      "Requirement already satisfied: numpy>=1.9.1 in d:\\softwares\\anaconda\\anaconda\\lib\\site-packages (from keras) (1.19.5)\n",
      "Requirement already satisfied: h5py in d:\\softwares\\anaconda\\anaconda\\lib\\site-packages (from keras) (3.1.0)\n",
      "Requirement already satisfied: scipy>=0.14 in d:\\softwares\\anaconda\\anaconda\\lib\\site-packages (from keras) (1.6.2)\n",
      "Requirement already satisfied: pyyaml in d:\\softwares\\anaconda\\anaconda\\lib\\site-packages (from keras) (5.4.1)\n",
      "Installing collected packages: keras\n",
      "Successfully installed keras-2.4.3\n"
     ]
    }
   ],
   "source": [
    "!pip install keras"
   ]
  },
  {
   "cell_type": "code",
   "execution_count": null,
   "id": "061cc308",
   "metadata": {},
   "outputs": [],
   "source": [
    "from tensorflow.keras.datasets import mnist"
   ]
  },
  {
   "cell_type": "code",
   "execution_count": 19,
   "id": "9f56a24f",
   "metadata": {},
   "outputs": [],
   "source": [
    "import numpy as np\n",
    "import pandas as pd\n",
    "import matplotlib.pyplot as plt"
   ]
  },
  {
   "cell_type": "code",
   "execution_count": 7,
   "id": "587fc8ee",
   "metadata": {},
   "outputs": [],
   "source": [
    "df = pd.read_csv('archive/mnist_train.csv')"
   ]
  },
  {
   "cell_type": "code",
   "execution_count": 8,
   "id": "289dfdf4",
   "metadata": {},
   "outputs": [
    {
     "data": {
      "text/html": [
       "<div>\n",
       "<style scoped>\n",
       "    .dataframe tbody tr th:only-of-type {\n",
       "        vertical-align: middle;\n",
       "    }\n",
       "\n",
       "    .dataframe tbody tr th {\n",
       "        vertical-align: top;\n",
       "    }\n",
       "\n",
       "    .dataframe thead th {\n",
       "        text-align: right;\n",
       "    }\n",
       "</style>\n",
       "<table border=\"1\" class=\"dataframe\">\n",
       "  <thead>\n",
       "    <tr style=\"text-align: right;\">\n",
       "      <th></th>\n",
       "      <th>label</th>\n",
       "      <th>1x1</th>\n",
       "      <th>1x2</th>\n",
       "      <th>1x3</th>\n",
       "      <th>1x4</th>\n",
       "      <th>1x5</th>\n",
       "      <th>1x6</th>\n",
       "      <th>1x7</th>\n",
       "      <th>1x8</th>\n",
       "      <th>1x9</th>\n",
       "      <th>...</th>\n",
       "      <th>28x19</th>\n",
       "      <th>28x20</th>\n",
       "      <th>28x21</th>\n",
       "      <th>28x22</th>\n",
       "      <th>28x23</th>\n",
       "      <th>28x24</th>\n",
       "      <th>28x25</th>\n",
       "      <th>28x26</th>\n",
       "      <th>28x27</th>\n",
       "      <th>28x28</th>\n",
       "    </tr>\n",
       "  </thead>\n",
       "  <tbody>\n",
       "    <tr>\n",
       "      <th>0</th>\n",
       "      <td>5</td>\n",
       "      <td>0</td>\n",
       "      <td>0</td>\n",
       "      <td>0</td>\n",
       "      <td>0</td>\n",
       "      <td>0</td>\n",
       "      <td>0</td>\n",
       "      <td>0</td>\n",
       "      <td>0</td>\n",
       "      <td>0</td>\n",
       "      <td>...</td>\n",
       "      <td>0</td>\n",
       "      <td>0</td>\n",
       "      <td>0</td>\n",
       "      <td>0</td>\n",
       "      <td>0</td>\n",
       "      <td>0</td>\n",
       "      <td>0</td>\n",
       "      <td>0</td>\n",
       "      <td>0</td>\n",
       "      <td>0</td>\n",
       "    </tr>\n",
       "    <tr>\n",
       "      <th>1</th>\n",
       "      <td>0</td>\n",
       "      <td>0</td>\n",
       "      <td>0</td>\n",
       "      <td>0</td>\n",
       "      <td>0</td>\n",
       "      <td>0</td>\n",
       "      <td>0</td>\n",
       "      <td>0</td>\n",
       "      <td>0</td>\n",
       "      <td>0</td>\n",
       "      <td>...</td>\n",
       "      <td>0</td>\n",
       "      <td>0</td>\n",
       "      <td>0</td>\n",
       "      <td>0</td>\n",
       "      <td>0</td>\n",
       "      <td>0</td>\n",
       "      <td>0</td>\n",
       "      <td>0</td>\n",
       "      <td>0</td>\n",
       "      <td>0</td>\n",
       "    </tr>\n",
       "    <tr>\n",
       "      <th>2</th>\n",
       "      <td>4</td>\n",
       "      <td>0</td>\n",
       "      <td>0</td>\n",
       "      <td>0</td>\n",
       "      <td>0</td>\n",
       "      <td>0</td>\n",
       "      <td>0</td>\n",
       "      <td>0</td>\n",
       "      <td>0</td>\n",
       "      <td>0</td>\n",
       "      <td>...</td>\n",
       "      <td>0</td>\n",
       "      <td>0</td>\n",
       "      <td>0</td>\n",
       "      <td>0</td>\n",
       "      <td>0</td>\n",
       "      <td>0</td>\n",
       "      <td>0</td>\n",
       "      <td>0</td>\n",
       "      <td>0</td>\n",
       "      <td>0</td>\n",
       "    </tr>\n",
       "    <tr>\n",
       "      <th>3</th>\n",
       "      <td>1</td>\n",
       "      <td>0</td>\n",
       "      <td>0</td>\n",
       "      <td>0</td>\n",
       "      <td>0</td>\n",
       "      <td>0</td>\n",
       "      <td>0</td>\n",
       "      <td>0</td>\n",
       "      <td>0</td>\n",
       "      <td>0</td>\n",
       "      <td>...</td>\n",
       "      <td>0</td>\n",
       "      <td>0</td>\n",
       "      <td>0</td>\n",
       "      <td>0</td>\n",
       "      <td>0</td>\n",
       "      <td>0</td>\n",
       "      <td>0</td>\n",
       "      <td>0</td>\n",
       "      <td>0</td>\n",
       "      <td>0</td>\n",
       "    </tr>\n",
       "    <tr>\n",
       "      <th>4</th>\n",
       "      <td>9</td>\n",
       "      <td>0</td>\n",
       "      <td>0</td>\n",
       "      <td>0</td>\n",
       "      <td>0</td>\n",
       "      <td>0</td>\n",
       "      <td>0</td>\n",
       "      <td>0</td>\n",
       "      <td>0</td>\n",
       "      <td>0</td>\n",
       "      <td>...</td>\n",
       "      <td>0</td>\n",
       "      <td>0</td>\n",
       "      <td>0</td>\n",
       "      <td>0</td>\n",
       "      <td>0</td>\n",
       "      <td>0</td>\n",
       "      <td>0</td>\n",
       "      <td>0</td>\n",
       "      <td>0</td>\n",
       "      <td>0</td>\n",
       "    </tr>\n",
       "  </tbody>\n",
       "</table>\n",
       "<p>5 rows × 785 columns</p>\n",
       "</div>"
      ],
      "text/plain": [
       "   label  1x1  1x2  1x3  1x4  1x5  1x6  1x7  1x8  1x9  ...  28x19  28x20  \\\n",
       "0      5    0    0    0    0    0    0    0    0    0  ...      0      0   \n",
       "1      0    0    0    0    0    0    0    0    0    0  ...      0      0   \n",
       "2      4    0    0    0    0    0    0    0    0    0  ...      0      0   \n",
       "3      1    0    0    0    0    0    0    0    0    0  ...      0      0   \n",
       "4      9    0    0    0    0    0    0    0    0    0  ...      0      0   \n",
       "\n",
       "   28x21  28x22  28x23  28x24  28x25  28x26  28x27  28x28  \n",
       "0      0      0      0      0      0      0      0      0  \n",
       "1      0      0      0      0      0      0      0      0  \n",
       "2      0      0      0      0      0      0      0      0  \n",
       "3      0      0      0      0      0      0      0      0  \n",
       "4      0      0      0      0      0      0      0      0  \n",
       "\n",
       "[5 rows x 785 columns]"
      ]
     },
     "execution_count": 8,
     "metadata": {},
     "output_type": "execute_result"
    }
   ],
   "source": [
    "df.head()"
   ]
  },
  {
   "cell_type": "code",
   "execution_count": 10,
   "id": "ac213b20",
   "metadata": {},
   "outputs": [],
   "source": [
    "data = df.values"
   ]
  },
  {
   "cell_type": "code",
   "execution_count": 11,
   "id": "75ef0f87",
   "metadata": {},
   "outputs": [
    {
     "data": {
      "text/plain": [
       "(60000, 785)"
      ]
     },
     "execution_count": 11,
     "metadata": {},
     "output_type": "execute_result"
    }
   ],
   "source": [
    "data.shape"
   ]
  },
  {
   "cell_type": "code",
   "execution_count": 26,
   "id": "9b155b26",
   "metadata": {},
   "outputs": [
    {
     "data": {
      "text/plain": [
       "(784,)"
      ]
     },
     "execution_count": 26,
     "metadata": {},
     "output_type": "execute_result"
    }
   ],
   "source": [
    "img = data[2][1:]\n",
    "img.shape"
   ]
  },
  {
   "cell_type": "code",
   "execution_count": 27,
   "id": "7e546726",
   "metadata": {},
   "outputs": [],
   "source": [
    "rimg = np.reshape(img, (28,28))"
   ]
  },
  {
   "cell_type": "code",
   "execution_count": 28,
   "id": "b8c9aea0",
   "metadata": {},
   "outputs": [
    {
     "data": {
      "text/plain": [
       "(28, 28)"
      ]
     },
     "execution_count": 28,
     "metadata": {},
     "output_type": "execute_result"
    }
   ],
   "source": [
    "rimg.shape"
   ]
  },
  {
   "cell_type": "code",
   "execution_count": 17,
   "id": "2f1b53a0",
   "metadata": {},
   "outputs": [
    {
     "name": "stdout",
     "output_type": "stream",
     "text": [
      "Requirement already satisfied: matplotlib in d:\\softwares\\anaconda\\anaconda\\lib\\site-packages (3.3.4)\n",
      "Requirement already satisfied: pillow>=6.2.0 in d:\\softwares\\anaconda\\anaconda\\lib\\site-packages (from matplotlib) (8.2.0)\n",
      "Requirement already satisfied: pyparsing!=2.0.4,!=2.1.2,!=2.1.6,>=2.0.3 in d:\\softwares\\anaconda\\anaconda\\lib\\site-packages (from matplotlib) (2.4.7)\n",
      "Requirement already satisfied: numpy>=1.15 in d:\\softwares\\anaconda\\anaconda\\lib\\site-packages (from matplotlib) (1.19.5)\n",
      "Requirement already satisfied: cycler>=0.10 in d:\\softwares\\anaconda\\anaconda\\lib\\site-packages (from matplotlib) (0.10.0)\n",
      "Requirement already satisfied: python-dateutil>=2.1 in d:\\softwares\\anaconda\\anaconda\\lib\\site-packages (from matplotlib) (2.8.1)\n",
      "Requirement already satisfied: kiwisolver>=1.0.1 in d:\\softwares\\anaconda\\anaconda\\lib\\site-packages (from matplotlib) (1.3.1)\n",
      "Requirement already satisfied: six in d:\\softwares\\anaconda\\anaconda\\lib\\site-packages (from cycler>=0.10->matplotlib) (1.15.0)\n"
     ]
    }
   ],
   "source": [
    "!pip install matplotlib"
   ]
  },
  {
   "cell_type": "code",
   "execution_count": 29,
   "id": "9ebd2a5f",
   "metadata": {},
   "outputs": [
    {
     "data": {
      "text/plain": [
       "<matplotlib.image.AxesImage at 0x1f381982430>"
      ]
     },
     "execution_count": 29,
     "metadata": {},
     "output_type": "execute_result"
    },
    {
     "data": {
      "image/png": "[encoded data removed]",
      "text/plain": [
       "<Figure size 432x288 with 1 Axes>"
      ]
     },
     "metadata": {
      "needs_background": "light"
     },
     "output_type": "display_data"
    }
   ],
   "source": [
    "plt.imshow(rimg)"
   ]
  },
  {
   "cell_type": "code",
   "execution_count": 30,
   "id": "da0a6481",
   "metadata": {},
   "outputs": [
    {
     "data": {
      "text/plain": [
       "array([  4,   0,   0,   0,   0,   0,   0,   0,   0,   0,   0,   0,   0,\n",
       "         0,   0,   0,   0,   0,   0,   0,   0,   0,   0,   0,   0,   0,\n",
       "         0,   0,   0,   0,   0,   0,   0,   0,   0,   0,   0,   0,   0,\n",
       "         0,   0,   0,   0,   0,   0,   0,   0,   0,   0,   0,   0,   0,\n",
       "         0,   0,   0,   0,   0,   0,   0,   0,   0,   0,   0,   0,   0,\n",
       "         0,   0,   0,   0,   0,   0,   0,   0,   0,   0,   0,   0,   0,\n",
       "         0,   0,   0,   0,   0,   0,   0,   0,   0,   0,   0,   0,   0,\n",
       "         0,   0,   0,   0,   0,   0,   0,   0,   0,   0,   0,   0,   0,\n",
       "         0,   0,   0,   0,   0,   0,   0,   0,   0,   0,   0,   0,   0,\n",
       "         0,   0,   0,   0,   0,   0,   0,   0,   0,   0,   0,   0,   0,\n",
       "         0,   0,   0,   0,   0,   0,   0,   0,   0,   0,   0,   0,   0,\n",
       "         0,   0,   0,   0,   0,   0,   0,   0,   0,   0,   0,   0,   0,\n",
       "         0,   0,   0,   0,   0,  67, 232,  39,   0,   0,   0,   0,   0,\n",
       "         0,   0,   0,   0,  62,  81,   0,   0,   0,   0,   0,   0,   0,\n",
       "         0,   0,   0,   0,   0,   0,   0, 120, 180,  39,   0,   0,   0,\n",
       "         0,   0,   0,   0,   0,   0, 126, 163,   0,   0,   0,   0,   0,\n",
       "         0,   0,   0,   0,   0,   0,   0,   0,   2, 153, 210,  40,   0,\n",
       "         0,   0,   0,   0,   0,   0,   0,   0, 220, 163,   0,   0,   0,\n",
       "         0,   0,   0,   0,   0,   0,   0,   0,   0,   0,  27, 254, 162,\n",
       "         0,   0,   0,   0,   0,   0,   0,   0,   0,   0, 222, 163,   0,\n",
       "         0,   0,   0,   0,   0,   0,   0,   0,   0,   0,   0,   0, 183,\n",
       "       254, 125,   0,   0,   0,   0,   0,   0,   0,   0,   0,  46, 245,\n",
       "       163,   0,   0,   0,   0,   0,   0,   0,   0,   0,   0,   0,   0,\n",
       "         0, 198, 254,  56,   0,   0,   0,   0,   0,   0,   0,   0,   0,\n",
       "       120, 254, 163,   0,   0,   0,   0,   0,   0,   0,   0,   0,   0,\n",
       "         0,   0,  23, 231, 254,  29,   0,   0,   0,   0,   0,   0,   0,\n",
       "         0,   0, 159, 254, 120,   0,   0,   0,   0,   0,   0,   0,   0,\n",
       "         0,   0,   0,   0, 163, 254, 216,  16,   0,   0,   0,   0,   0,\n",
       "         0,   0,   0,   0, 159, 254,  67,   0,   0,   0,   0,   0,   0,\n",
       "         0,   0,   0,  14,  86, 178, 248, 254,  91,   0,   0,   0,   0,\n",
       "         0,   0,   0,   0,   0,   0, 159, 254,  85,   0,   0,   0,  47,\n",
       "        49, 116, 144, 150, 241, 243, 234, 179, 241, 252,  40,   0,   0,\n",
       "         0,   0,   0,   0,   0,   0,   0,   0, 150, 253, 237, 207, 207,\n",
       "       207, 253, 254, 250, 240, 198, 143,  91,  28,   5, 233, 250,   0,\n",
       "         0,   0,   0,   0,   0,   0,   0,   0,   0,   0,   0, 119, 177,\n",
       "       177, 177, 177, 177,  98,  56,   0,   0,   0,   0,   0, 102, 254,\n",
       "       220,   0,   0,   0,   0,   0,   0,   0,   0,   0,   0,   0,   0,\n",
       "         0,   0,   0,   0,   0,   0,   0,   0,   0,   0,   0,   0,   0,\n",
       "       169, 254, 137,   0,   0,   0,   0,   0,   0,   0,   0,   0,   0,\n",
       "         0,   0,   0,   0,   0,   0,   0,   0,   0,   0,   0,   0,   0,\n",
       "         0,   0, 169, 254,  57,   0,   0,   0,   0,   0,   0,   0,   0,\n",
       "         0,   0,   0,   0,   0,   0,   0,   0,   0,   0,   0,   0,   0,\n",
       "         0,   0,   0,   0, 169, 254,  57,   0,   0,   0,   0,   0,   0,\n",
       "         0,   0,   0,   0,   0,   0,   0,   0,   0,   0,   0,   0,   0,\n",
       "         0,   0,   0,   0,   0,   0, 169, 255,  94,   0,   0,   0,   0,\n",
       "         0,   0,   0,   0,   0,   0,   0,   0,   0,   0,   0,   0,   0,\n",
       "         0,   0,   0,   0,   0,   0,   0,   0, 169, 254,  96,   0,   0,\n",
       "         0,   0,   0,   0,   0,   0,   0,   0,   0,   0,   0,   0,   0,\n",
       "         0,   0,   0,   0,   0,   0,   0,   0,   0,   0, 169, 254, 153,\n",
       "         0,   0,   0,   0,   0,   0,   0,   0,   0,   0,   0,   0,   0,\n",
       "         0,   0,   0,   0,   0,   0,   0,   0,   0,   0,   0,   0, 169,\n",
       "       255, 153,   0,   0,   0,   0,   0,   0,   0,   0,   0,   0,   0,\n",
       "         0,   0,   0,   0,   0,   0,   0,   0,   0,   0,   0,   0,   0,\n",
       "         0,  96, 254, 153,   0,   0,   0,   0,   0,   0,   0,   0,   0,\n",
       "         0,   0,   0,   0,   0,   0,   0,   0,   0,   0,   0,   0,   0,\n",
       "         0,   0,   0,   0,   0,   0,   0,   0,   0,   0,   0,   0,   0,\n",
       "         0,   0,   0,   0,   0,   0,   0,   0,   0,   0,   0,   0,   0,\n",
       "         0,   0,   0,   0,   0,   0,   0,   0,   0,   0,   0,   0,   0,\n",
       "         0,   0,   0,   0,   0,   0,   0,   0,   0,   0,   0,   0,   0,\n",
       "         0,   0,   0,   0,   0,   0,   0,   0,   0,   0,   0,   0,   0,\n",
       "         0,   0,   0,   0,   0], dtype=int64)"
      ]
     },
     "execution_count": 30,
     "metadata": {},
     "output_type": "execute_result"
    }
   ],
   "source": [
    "data[2]"
   ]
  },
  {
   "cell_type": "code",
   "execution_count": null,
   "id": "d7095453",
   "metadata": {},
   "outputs": [],
   "source": []
  }
 ],
 "metadata": {
  "kernelspec": {
   "display_name": "Python 3",
   "language": "python",
   "name": "python3"
  },
  "language_info": {
   "codemirror_mode": {
    "name": "ipython",
    "version": 3
   },
   "file_extension": ".py",
   "mimetype": "text/x-python",
   "name": "python",
   "nbconvert_exporter": "python",
   "pygments_lexer": "ipython3",
   "version": "3.8.8"
  }
 },
 "nbformat": 4,
 "nbformat_minor": 5
}

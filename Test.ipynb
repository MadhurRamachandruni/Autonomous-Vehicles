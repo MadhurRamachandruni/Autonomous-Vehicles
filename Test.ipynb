{
 "cells": [
  {
   "cell_type": "code",
   "execution_count": 1,
   "id": "3a068898",
   "metadata": {},
   "outputs": [],
   "source": [
    "import numpy as np\n",
    "\n",
    "from sklearn.model_selection import train_test_split"
   ]
  },
  {
   "cell_type": "code",
   "execution_count": 2,
   "id": "6183edfb",
   "metadata": {},
   "outputs": [],
   "source": [
    "data = np.load('Final_data.npy')"
   ]
  },
  {
   "cell_type": "code",
   "execution_count": 7,
   "id": "39f45a12",
   "metadata": {},
   "outputs": [
    {
     "data": {
      "text/plain": [
       "array(['-0.7337253', '0.0877326', '-0.5783901', ..., '0.0', '1.0',\n",
       "       '-0.312696'], dtype='<U92')"
      ]
     },
     "execution_count": 7,
     "metadata": {},
     "output_type": "execute_result"
    }
   ],
   "source": [
    "data[1]"
   ]
  },
  {
   "cell_type": "code",
   "execution_count": 3,
   "id": "75bcdf29",
   "metadata": {},
   "outputs": [],
   "source": [
    "imgs = data[0]"
   ]
  },
  {
   "cell_type": "code",
   "execution_count": 4,
   "id": "687e234f",
   "metadata": {},
   "outputs": [],
   "source": [
    "steering = data[1]"
   ]
  },
  {
   "cell_type": "code",
   "execution_count": null,
   "id": "0d64fcc4",
   "metadata": {},
   "outputs": [],
   "source": [
    "x_train, x_test, y_train, y_test = train_test_split(imgs,steering, test_size = 0.2, random_state = 6)"
   ]
  }
 ],
 "metadata": {
  "kernelspec": {
   "display_name": "Python 3",
   "language": "python",
   "name": "python3"
  },
  "language_info": {
   "codemirror_mode": {
    "name": "ipython",
    "version": 3
   },
   "file_extension": ".py",
   "mimetype": "text/x-python",
   "name": "python",
   "nbconvert_exporter": "python",
   "pygments_lexer": "ipython3",
   "version": "3.8.8"
  }
 },
 "nbformat": 4,
 "nbformat_minor": 5
}

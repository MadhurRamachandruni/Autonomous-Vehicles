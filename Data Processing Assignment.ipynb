{
 "cells": [
  {
   "cell_type": "code",
   "execution_count": 1,
   "id": "4b62ccb4",
   "metadata": {},
   "outputs": [],
   "source": [
    "import numpy as np\n",
    "\n",
    "from sklearn.model_selection import train_test_split"
   ]
  },
  {
   "cell_type": "code",
   "execution_count": 4,
   "id": "2de156e7",
   "metadata": {},
   "outputs": [],
   "source": [
    "data = np.load('processed_data_logs.npy',allow_pickle=True)"
   ]
  },
  {
   "cell_type": "code",
   "execution_count": 7,
   "id": "145ec481",
   "metadata": {},
   "outputs": [],
   "source": [
    "imgs = []\n",
    "steering = []\n",
    "\n",
    "for i in data:\n",
    "    imgs.append(i[0])\n",
    "    steering.append(i[3])"
   ]
  },
  {
   "cell_type": "code",
   "execution_count": 8,
   "id": "0ce0c33f",
   "metadata": {},
   "outputs": [],
   "source": [
    "data = [imgs,steering]"
   ]
  },
  {
   "cell_type": "code",
   "execution_count": 9,
   "id": "1f34327b",
   "metadata": {},
   "outputs": [],
   "source": [
    "data = np.array(data)"
   ]
  },
  {
   "cell_type": "code",
   "execution_count": 12,
   "id": "3c9e8491",
   "metadata": {},
   "outputs": [],
   "source": [
    "np.save('Final_data.npy',data)"
   ]
  }
 ],
 "metadata": {
  "kernelspec": {
   "display_name": "Python 3",
   "language": "python",
   "name": "python3"
  },
  "language_info": {
   "codemirror_mode": {
    "name": "ipython",
    "version": 3
   },
   "file_extension": ".py",
   "mimetype": "text/x-python",
   "name": "python",
   "nbconvert_exporter": "python",
   "pygments_lexer": "ipython3",
   "version": "3.8.8"
  }
 },
 "nbformat": 4,
 "nbformat_minor": 5
}

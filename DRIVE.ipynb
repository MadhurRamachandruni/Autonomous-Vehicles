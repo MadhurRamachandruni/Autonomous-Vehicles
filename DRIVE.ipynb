{
 "cells": [
  {
   "cell_type": "code",
   "execution_count": 5,
   "id": "c44523db",
   "metadata": {},
   "outputs": [
    {
     "ename": "TypeError",
     "evalue": "'module' object is not callable",
     "output_type": "error",
     "traceback": [
      "\u001b[1;31m---------------------------------------------------------------------------\u001b[0m",
      "\u001b[1;31mTypeError\u001b[0m                                 Traceback (most recent call last)",
      "\u001b[1;32m<ipython-input-5-d28df3438807>\u001b[0m in \u001b[0;36m<module>\u001b[1;34m\u001b[0m\n\u001b[0;32m     13\u001b[0m \u001b[0msoi\u001b[0m \u001b[1;33m=\u001b[0m \u001b[0msocketio\u001b[0m\u001b[1;33m.\u001b[0m\u001b[0mServer\u001b[0m\u001b[1;33m(\u001b[0m\u001b[1;33m)\u001b[0m\u001b[1;33m\u001b[0m\u001b[1;33m\u001b[0m\u001b[0m\n\u001b[0;32m     14\u001b[0m \u001b[1;33m\u001b[0m\u001b[0m\n\u001b[1;32m---> 15\u001b[1;33m \u001b[0mapp\u001b[0m \u001b[1;33m=\u001b[0m \u001b[0mF\u001b[0m\u001b[1;33m(\u001b[0m\u001b[0m__name__\u001b[0m\u001b[1;33m)\u001b[0m\u001b[1;33m\u001b[0m\u001b[1;33m\u001b[0m\u001b[0m\n\u001b[0m\u001b[0;32m     16\u001b[0m \u001b[0mspeed_limit\u001b[0m \u001b[1;33m=\u001b[0m \u001b[1;36m10\u001b[0m\u001b[1;33m\u001b[0m\u001b[1;33m\u001b[0m\u001b[0m\n\u001b[0;32m     17\u001b[0m \u001b[1;33m\u001b[0m\u001b[0m\n",
      "\u001b[1;31mTypeError\u001b[0m: 'module' object is not callable"
     ]
    }
   ],
   "source": [
    "import base64\n",
    "import socketio\n",
    "import eventlet\n",
    "\n",
    "import cv2 as cv\n",
    "import numpy as np\n",
    "import flask as F\n",
    "from io import BytesIO\n",
    "from PIL import Image\n",
    "\n",
    "from keras.models import load_model\n",
    "\n",
    "soi = socketio.Server()\n",
    "\n",
    "app = F(__name__)\n",
    "speed_limit = 10\n",
    "\n",
    "@soi.on('telemetry')\n",
    "\n",
    "def telemetry(sid, data):\n",
    "\n",
    "    speed = float(data['speed'])\n",
    "    image = Image.open(BytesIO(base64, b64decode(data['Image'])))\n",
    "    image = np.asarray(image)\n",
    "\n",
    "    image = cv.cvtColor(image, cv.COLOR_BG2YUV)\n",
    "    image = image[65:135,:,:]\n",
    "\n",
    "    image = cv.resize(image, (200,66))\n",
    "    image = np.array([image])\n",
    "\n",
    "    steering_angle = float(model.predict(image))\n",
    "    throtte = 1.0 - speed/speed_limit\n",
    "    print(steering_angle, throtte, speed)\n",
    "    send_control(steering_angle, throtte)\n",
    "\n",
    "\n",
    "def send_control(steering_angle, throtte):\n",
    "    soi.emit('steer', data = {'steering_angle':steering_angle.__str__(), 'throtte':throtte.__str__()})\n",
    "\n",
    "def connect(sid,environ):\n",
    "    print('Connected')\n",
    "    send_control(0,0)\n",
    "\n",
    "if __name__ == '__main__':\n",
    "\n",
    "    model = load_model('12_Epoch_Model.h5')\n",
    "    ap = socketio.Middleware(soi,app)\n",
    "\n",
    "    eventlet.wgsi.server(eventlet.listen('',4567)).app\n"
   ]
  },
  {
   "cell_type": "code",
   "execution_count": null,
   "id": "6988943b",
   "metadata": {},
   "outputs": [],
   "source": []
  }
 ],
 "metadata": {
  "kernelspec": {
   "display_name": "Python 3",
   "language": "python",
   "name": "python3"
  },
  "language_info": {
   "codemirror_mode": {
    "name": "ipython",
    "version": 3
   },
   "file_extension": ".py",
   "mimetype": "text/x-python",
   "name": "python",
   "nbconvert_exporter": "python",
   "pygments_lexer": "ipython3",
   "version": "3.8.8"
  }
 },
 "nbformat": 4,
 "nbformat_minor": 5
}

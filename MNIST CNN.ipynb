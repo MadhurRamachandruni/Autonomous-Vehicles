{
 "cells": [
  {
   "cell_type": "code",
   "execution_count": 62,
   "id": "4659b178",
   "metadata": {},
   "outputs": [],
   "source": [
    "import cv2 as cv\n",
    "import numpy as np\n",
    "import pandas as pd\n",
    "\n",
    "import tensorflow as tf\n",
    "import matplotlib.pyplot as plt"
   ]
  },
  {
   "cell_type": "code",
   "execution_count": 63,
   "id": "f31e0ce8",
   "metadata": {},
   "outputs": [],
   "source": [
    "train_set = pd.read_csv('archive/mnist_train.csv').values\n",
    "test_set = pd.read_csv('archive/mnist_test.csv').values"
   ]
  },
  {
   "cell_type": "code",
   "execution_count": 64,
   "id": "6e4f4859",
   "metadata": {},
   "outputs": [],
   "source": [
    "x_train = train_set[:,1:]\n",
    "y_train = train_set[:,:1]\n",
    "\n",
    "x_train = np.reshape(x_train, (60000,28,28,1))\n",
    "\n",
    "x_train = x_train/255."
   ]
  },
  {
   "cell_type": "code",
   "execution_count": 65,
   "id": "0a8955b5",
   "metadata": {},
   "outputs": [],
   "source": [
    "x_test = test_set[:,1:]\n",
    "y_test = test_set[:,:1]\n",
    "\n",
    "x_test = np.reshape(x_test, (10000,28,28,1))\n",
    "\n",
    "x_test = x_test/255."
   ]
  },
  {
   "cell_type": "markdown",
   "id": "01f1735c",
   "metadata": {},
   "source": [
    "#CNN Architecture Building"
   ]
  },
  {
   "cell_type": "code",
   "execution_count": 66,
   "id": "98fe08bf",
   "metadata": {},
   "outputs": [],
   "source": [
    "from keras.models import Sequential\n",
    "from keras.layers import Dense, Dropout, Conv2D, Flatten, MaxPooling2D"
   ]
  },
  {
   "cell_type": "code",
   "execution_count": 67,
   "id": "151bc7d7",
   "metadata": {},
   "outputs": [],
   "source": [
    "model = Sequential()\n",
    "\n",
    "model.add(Conv2D(28, kernel_size = (3,3), input_shape = (28,28,1)))\n",
    "model.add(MaxPooling2D(pool_size = (2,2)))\n",
    "\n",
    "model.add(Flatten())\n",
    "\n",
    "model.add(Dense(128, activation = tf.nn.relu))\n",
    "\n",
    "model.add(Dropout(0.2))\n",
    "\n",
    "model.add(Dense(10, activation = tf.nn.softmax))\n",
    "\n",
    "model.compile(optimizer = 'adam',loss = 'sparse_categorical_crossentropy', metrics = ['accuracy'])"
   ]
  },
  {
   "cell_type": "code",
   "execution_count": 68,
   "id": "d09f2444",
   "metadata": {},
   "outputs": [
    {
     "name": "stdout",
     "output_type": "stream",
     "text": [
      "Epoch 1/7\n",
      "1875/1875 [==============================] - 26s 13ms/step - loss: 0.3658 - accuracy: 0.8915\n",
      "Epoch 2/7\n",
      "1875/1875 [==============================] - 25s 13ms/step - loss: 0.0900 - accuracy: 0.9718\n",
      "Epoch 3/7\n",
      "1875/1875 [==============================] - 34s 18ms/step - loss: 0.0607 - accuracy: 0.9812\n",
      "Epoch 4/7\n",
      "1875/1875 [==============================] - 38s 20ms/step - loss: 0.0430 - accuracy: 0.9863\n",
      "Epoch 5/7\n",
      "1875/1875 [==============================] - 27s 15ms/step - loss: 0.0339 - accuracy: 0.9890\n",
      "Epoch 6/7\n",
      "1875/1875 [==============================] - 39s 21ms/step - loss: 0.0270 - accuracy: 0.9908\n",
      "Epoch 7/7\n",
      "1875/1875 [==============================] - 36s 19ms/step - loss: 0.0261 - accuracy: 0.9914\n"
     ]
    },
    {
     "data": {
      "text/plain": [
       "<keras.callbacks.History at 0x2217871a6d0>"
      ]
     },
     "execution_count": 68,
     "metadata": {},
     "output_type": "execute_result"
    }
   ],
   "source": [
    "model.fit(x = x_train, y = y_train, epochs = 7)"
   ]
  },
  {
   "cell_type": "code",
   "execution_count": 69,
   "id": "09d86286",
   "metadata": {},
   "outputs": [
    {
     "name": "stdout",
     "output_type": "stream",
     "text": [
      "313/313 [==============================] - 2s 5ms/step - loss: 0.0542 - accuracy: 0.9847\n"
     ]
    },
    {
     "data": {
      "text/plain": [
       "[0.05419419705867767, 0.9847000241279602]"
      ]
     },
     "execution_count": 69,
     "metadata": {},
     "output_type": "execute_result"
    }
   ],
   "source": [
    "model.evaluate(x_test, y_test)"
   ]
  },
  {
   "cell_type": "code",
   "execution_count": null,
   "id": "ba99471d",
   "metadata": {},
   "outputs": [],
   "source": []
  },
  {
   "cell_type": "code",
   "execution_count": null,
   "id": "096c2058",
   "metadata": {},
   "outputs": [],
   "source": []
  },
  {
   "cell_type": "code",
   "execution_count": null,
   "id": "de44d2c0",
   "metadata": {},
   "outputs": [],
   "source": []
  },
  {
   "cell_type": "markdown",
   "id": "3b471787",
   "metadata": {},
   "source": [
    "MNIST MNISTCNN.ipynbTest"
   ]
  },
  {
   "cell_type": "code",
   "execution_count": 82,
   "id": "659fe7ef",
   "metadata": {},
   "outputs": [
    {
     "data": {
      "image/png": "[encoded data removed]",
      "text/plain": [
       "<Figure size 432x288 with 1 Axes>"
      ]
     },
     "metadata": {
      "needs_background": "light"
     },
     "output_type": "display_data"
    },
    {
     "name": "stdout",
     "output_type": "stream",
     "text": [
      "This image is of a: 9\n"
     ]
    }
   ],
   "source": []
  },
  {
   "cell_type": "code",
   "execution_count": 83,
   "id": "0b497ead",
   "metadata": {},
   "outputs": [
    {
     "name": "stdout",
     "output_type": "stream",
     "text": [
      "7.736787e-11 0\n",
      "5.376782e-09 1\n",
      "9.808779e-07 2\n",
      "0.013420523 3\n",
      "4.4616982e-07 4\n",
      "0.0017701369 5\n",
      "6.620432e-13 6\n",
      "3.993356e-08 7\n",
      "0.00019496803 8\n",
      "0.98461294 9\n"
     ]
    }
   ],
   "source": [
    "ref = 0\n",
    "for i in result[0]:\n",
    "    print(i,ref)\n",
    "    ref+=1"
   ]
  },
  {
   "cell_type": "code",
   "execution_count": 84,
   "id": "ee45402f",
   "metadata": {},
   "outputs": [
    {
     "data": {
      "text/plain": [
       "(235, 258, 3)"
      ]
     },
     "execution_count": 84,
     "metadata": {},
     "output_type": "execute_result"
    }
   ],
   "source": [
    "img.shape"
   ]
  },
  {
   "cell_type": "code",
   "execution_count": null,
   "id": "38e48587",
   "metadata": {},
   "outputs": [],
   "source": []
  },
  {
   "cell_type": "code",
   "execution_count": null,
   "id": "5d2f3913",
   "metadata": {},
   "outputs": [],
   "source": []
  },
  {
   "cell_type": "code",
   "execution_count": 88,
   "id": "9d524d5c",
   "metadata": {},
   "outputs": [
    {
     "name": "stdout",
     "output_type": "stream",
     "text": [
      "Downloading data from https://storage.googleapis.com/tensorflow/tf-keras-datasets/mnist.npz\n",
      "11493376/11490434 [==============================] - 4s 0us/step\n"
     ]
    }
   ],
   "source": [
    "(x_train,y_train),(x_test,y_test) = tf.keras.datasets.mnist.load_data()"
   ]
  },
  {
   "cell_type": "code",
   "execution_count": null,
   "id": "f8cc94f0",
   "metadata": {},
   "outputs": [],
   "source": []
  },
  {
   "cell_type": "code",
   "execution_count": null,
   "id": "05509695",
   "metadata": {},
   "outputs": [],
   "source": []
  },
  {
   "cell_type": "code",
   "execution_count": null,
   "id": "17a558e9",
   "metadata": {},
   "outputs": [],
   "source": []
  },
  {
   "cell_type": "code",
   "execution_count": null,
   "id": "e2fdd98b",
   "metadata": {},
   "outputs": [],
   "source": []
  },
  {
   "cell_type": "markdown",
   "id": "e1c6bdfb",
   "metadata": {},
   "source": [
    "Save Model/Weights"
   ]
  },
  {
   "cell_type": "code",
   "execution_count": 89,
   "id": "08bab700",
   "metadata": {},
   "outputs": [
    {
     "name": "stdout",
     "output_type": "stream",
     "text": [
      "Model: \"sequential_2\"\n",
      "_________________________________________________________________\n",
      "Layer (type)                 Output Shape              Param #   \n",
      "=================================================================\n",
      "conv2d_2 (Conv2D)            (None, 26, 26, 28)        280       \n",
      "_________________________________________________________________\n",
      "max_pooling2d_2 (MaxPooling2 (None, 13, 13, 28)        0         \n",
      "_________________________________________________________________\n",
      "flatten_2 (Flatten)          (None, 4732)              0         \n",
      "_________________________________________________________________\n",
      "dense_4 (Dense)              (None, 128)               605824    \n",
      "_________________________________________________________________\n",
      "dropout_2 (Dropout)          (None, 128)               0         \n",
      "_________________________________________________________________\n",
      "dense_5 (Dense)              (None, 10)                1290      \n",
      "=================================================================\n",
      "Total params: 607,394\n",
      "Trainable params: 607,394\n",
      "Non-trainable params: 0\n",
      "_________________________________________________________________\n"
     ]
    }
   ],
   "source": [
    "model.summary()"
   ]
  },
  {
   "cell_type": "code",
   "execution_count": null,
   "id": "9de8a989",
   "metadata": {},
   "outputs": [],
   "source": [
    "model.save(\"\")"
   ]
  }
 ],
 "metadata": {
  "kernelspec": {
   "display_name": "Python 3",
   "language": "python",
   "name": "python3"
  },
  "language_info": {
   "codemirror_mode": {
    "name": "ipython",
    "version": 3
   },
   "file_extension": ".py",
   "mimetype": "text/x-python",
   "name": "python",
   "nbconvert_exporter": "python",
   "pygments_lexer": "ipython3",
   "version": "3.8.8"
  }
 },
 "nbformat": 4,
 "nbformat_minor": 5
}

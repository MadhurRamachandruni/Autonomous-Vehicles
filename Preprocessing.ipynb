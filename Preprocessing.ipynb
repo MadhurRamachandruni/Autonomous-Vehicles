{
 "cells": [
  {
   "cell_type": "code",
   "execution_count": 3,
   "id": "693521fa",
   "metadata": {},
   "outputs": [],
   "source": [
    "import numpy as np\n",
    "import cv2 as cv\n",
    "\n",
    "import matplotlib.pyplot as plt\n",
    "from sklearn.model_selection import train_test_split"
   ]
  },
  {
   "cell_type": "code",
   "execution_count": 4,
   "id": "683e1487",
   "metadata": {},
   "outputs": [],
   "source": [
    "data = np.load('processed_data_logs.npy', allow_pickle=True)"
   ]
  },
  {
   "cell_type": "code",
   "execution_count": 5,
   "id": "c4c91e41",
   "metadata": {},
   "outputs": [
    {
     "data": {
      "text/plain": [
       "array(['C:\\\\Users\\\\rmadh\\\\Desktop\\\\Jupyter Files\\\\Self Driving Car\\\\IMG\\\\center_2021_07_20_16_51_44_193.jpg',\n",
       "       ' C:\\\\Users\\\\rmadh\\\\Desktop\\\\Jupyter Files\\\\Self Driving Car\\\\IMG\\\\left_2021_07_20_16_51_44_193.jpg',\n",
       "       ' C:\\\\Users\\\\rmadh\\\\Desktop\\\\Jupyter Files\\\\Self Driving Car\\\\IMG\\\\right_2021_07_20_16_51_44_193.jpg',\n",
       "       -0.7337253, 1.0, 0, 30.08978], dtype=object)"
      ]
     },
     "execution_count": 5,
     "metadata": {},
     "output_type": "execute_result"
    }
   ],
   "source": [
    "data[0]"
   ]
  },
  {
   "cell_type": "code",
   "execution_count": 6,
   "id": "70596b2c",
   "metadata": {},
   "outputs": [],
   "source": [
    "imgs = []\n",
    "steering = []\n",
    "\n",
    "for i in range(len(data)):\n",
    "\n",
    "    imgs.append(data[i][0].split('\\\\')[-1])\n",
    "    steering.append(data[i][3])"
   ]
  },
  {
   "cell_type": "code",
   "execution_count": 7,
   "id": "741c5380",
   "metadata": {},
   "outputs": [],
   "source": [
    "imgs = np.array(imgs, dtype = str)\n",
    "steering = np.array(steering, dtype = float)"
   ]
  },
  {
   "cell_type": "code",
   "execution_count": 8,
   "id": "47a1036c",
   "metadata": {},
   "outputs": [
    {
     "data": {
      "text/plain": [
       "'center_2021_07_20_16_52_30_949.jpg'"
      ]
     },
     "execution_count": 8,
     "metadata": {},
     "output_type": "execute_result"
    }
   ],
   "source": [
    "imgs[5]"
   ]
  },
  {
   "cell_type": "code",
   "execution_count": 9,
   "id": "4c961093",
   "metadata": {},
   "outputs": [
    {
     "data": {
      "text/plain": [
       "-0.3167055"
      ]
     },
     "execution_count": 9,
     "metadata": {},
     "output_type": "execute_result"
    }
   ],
   "source": [
    "steering[5]"
   ]
  },
  {
   "cell_type": "code",
   "execution_count": 10,
   "id": "b9aae8c2",
   "metadata": {},
   "outputs": [],
   "source": [
    "x_train, x_test, y_train, y_test = train_test_split(imgs,steering, test_size = 0.2, random_state = 6)"
   ]
  },
  {
   "cell_type": "code",
   "execution_count": 11,
   "id": "33279439",
   "metadata": {
    "scrolled": true
   },
   "outputs": [
    {
     "name": "stdout",
     "output_type": "stream",
     "text": [
      "972\n"
     ]
    }
   ],
   "source": [
    "for i in range(len(x_train)):\n",
    "    if('center_2021_07_20_16_52_30_949.jpg' == x_train[i]):\n",
    "        print(i)"
   ]
  },
  {
   "cell_type": "code",
   "execution_count": 13,
   "id": "d4566aa2",
   "metadata": {},
   "outputs": [
    {
     "data": {
      "text/plain": [
       "'center_2021_07_20_16_52_30_949.jpg'"
      ]
     },
     "execution_count": 13,
     "metadata": {},
     "output_type": "execute_result"
    }
   ],
   "source": [
    "x_train[972]"
   ]
  },
  {
   "cell_type": "code",
   "execution_count": null,
   "id": "2202f773",
   "metadata": {},
   "outputs": [],
   "source": []
  }
 ],
 "metadata": {
  "kernelspec": {
   "display_name": "Python 3",
   "language": "python",
   "name": "python3"
  },
  "language_info": {
   "codemirror_mode": {
    "name": "ipython",
    "version": 3
   },
   "file_extension": ".py",
   "mimetype": "text/x-python",
   "name": "python",
   "nbconvert_exporter": "python",
   "pygments_lexer": "ipython3",
   "version": "3.8.8"
  }
 },
 "nbformat": 4,
 "nbformat_minor": 5
}

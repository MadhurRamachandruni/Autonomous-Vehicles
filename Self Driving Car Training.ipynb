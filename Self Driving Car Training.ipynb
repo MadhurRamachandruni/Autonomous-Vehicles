{
 "cells": [
  {
   "cell_type": "code",
   "execution_count": 20,
   "id": "459eb66a",
   "metadata": {},
   "outputs": [],
   "source": [
    "import numpy as np\n",
    "import cv2 as cv\n",
    "\n",
    "import matplotlib.pyplot as plt\n",
    "\n",
    "from sklearn.model_selection import train_test_split\n",
    "\n",
    "from tensorflow.keras.models import Sequential, load_model\n",
    "from tensorflow.keras.layers import Convolution2D, Flatten, Dense"
   ]
  },
  {
   "cell_type": "code",
   "execution_count": 14,
   "id": "b2126ca2",
   "metadata": {},
   "outputs": [],
   "source": [
    "data = np.load('Final_data.npy')\n",
    "\n",
    "imgs = data[0]\n",
    "steering = data[1]\n",
    "\n",
    "\n",
    "x_train, x_test, y_train, y_test = train_test_split(imgs, steering, test_size = 0.2)"
   ]
  },
  {
   "cell_type": "code",
   "execution_count": 15,
   "id": "af5d4783",
   "metadata": {},
   "outputs": [
    {
     "data": {
      "text/plain": [
       "True"
      ]
     },
     "execution_count": 15,
     "metadata": {},
     "output_type": "execute_result"
    }
   ],
   "source": [
    "len(x_test) + len(x_train) == len(data[0])"
   ]
  },
  {
   "cell_type": "code",
   "execution_count": 16,
   "id": "c8b1161c",
   "metadata": {},
   "outputs": [],
   "source": [
    "def batch_generator(imgs,steering,batch_size):\n",
    "       \n",
    "    while True:\n",
    "        x = []\n",
    "        y = []\n",
    "        \n",
    "        for i in range(batch_size):\n",
    "    \n",
    "            index = np.random.randint(0,len(imgs)-1)    \n",
    "            img = cv.imread(imgs[index])\n",
    "            \n",
    "            img = cv.cvtColor(img,cv.COLOR_BGR2YUV)\n",
    "            img = img[60:135,:,:]\n",
    "            \n",
    "            img = cv.resize(img, [200,66])\n",
    "            \n",
    "            \n",
    "            if (np.random.rand() > 0.5):\n",
    "\n",
    "                brightness_cont = np.random.randint(1,4)\n",
    "                img = img/brightness_cont\n",
    "                \n",
    "                \n",
    "            if (np.random.rand() > 0.5):\n",
    "\n",
    "                img = cv.flip(img,1)\n",
    "                steering_angle = -float(steering[index])\n",
    "                \n",
    "            else:\n",
    "                steering_angle = float(steering[index])\n",
    "                \n",
    "\n",
    "            x.append(img)\n",
    "            y.append(steering_angle)\n",
    "            \n",
    "        x = np.array(x)\n",
    "        y = np.array(y)\n",
    "        \n",
    "        yield x,y\n",
    "    "
   ]
  },
  {
   "cell_type": "code",
   "execution_count": 17,
   "id": "c39cea51",
   "metadata": {},
   "outputs": [],
   "source": [
    "model = Sequential()\n",
    "\n",
    "model.add(Convolution2D(24, (5,5), strides = (2,2), input_shape = (66,200,3), activation = 'elu'))\n",
    "model.add(Convolution2D(36, (5,5), strides = (2,2), activation = 'elu'))\n",
    "model.add(Convolution2D(48, (5,5), strides = (2,2), activation = 'elu'))\n",
    "\n",
    "model.add(Convolution2D(64, (3,3), activation = 'elu'))\n",
    "model.add(Convolution2D(64, (3,3), activation = 'elu'))\n",
    "\n",
    "model.add(Flatten())\n",
    "\n",
    "model.add(Dense(100, activation = 'elu'))\n",
    "model.add(Dense(50, activation = 'elu'))\n",
    "model.add(Dense(10, activation = 'elu'))\n",
    "model.add(Dense(1))\n",
    "\n",
    "model.compile(optimizer = 'adam', loss = 'mse', metrics = ['accuracy'])"
   ]
  },
  {
   "cell_type": "code",
   "execution_count": 18,
   "id": "6e14550f",
   "metadata": {},
   "outputs": [
    {
     "name": "stdout",
     "output_type": "stream",
     "text": [
      "Model: \"sequential_2\"\n",
      "_________________________________________________________________\n",
      "Layer (type)                 Output Shape              Param #   \n",
      "=================================================================\n",
      "conv2d_10 (Conv2D)           (None, 31, 98, 24)        1824      \n",
      "_________________________________________________________________\n",
      "conv2d_11 (Conv2D)           (None, 14, 47, 36)        21636     \n",
      "_________________________________________________________________\n",
      "conv2d_12 (Conv2D)           (None, 5, 22, 48)         43248     \n",
      "_________________________________________________________________\n",
      "conv2d_13 (Conv2D)           (None, 3, 20, 64)         27712     \n",
      "_________________________________________________________________\n",
      "conv2d_14 (Conv2D)           (None, 1, 18, 64)         36928     \n",
      "_________________________________________________________________\n",
      "flatten_2 (Flatten)          (None, 1152)              0         \n",
      "_________________________________________________________________\n",
      "dense_8 (Dense)              (None, 100)               115300    \n",
      "_________________________________________________________________\n",
      "dense_9 (Dense)              (None, 50)                5050      \n",
      "_________________________________________________________________\n",
      "dense_10 (Dense)             (None, 10)                510       \n",
      "_________________________________________________________________\n",
      "dense_11 (Dense)             (None, 1)                 11        \n",
      "=================================================================\n",
      "Total params: 252,219\n",
      "Trainable params: 252,219\n",
      "Non-trainable params: 0\n",
      "_________________________________________________________________\n"
     ]
    }
   ],
   "source": [
    "model.summary()"
   ]
  },
  {
   "cell_type": "code",
   "execution_count": 19,
   "id": "3b526ede",
   "metadata": {},
   "outputs": [
    {
     "name": "stdout",
     "output_type": "stream",
     "text": [
      "Epoch 1/10\n",
      "300/300 [==============================] - 126s 418ms/step - loss: 0.9811 - accuracy: 0.3922 - val_loss: 0.0901 - val_accuracy: 0.3746\n",
      "Epoch 2/10\n",
      "300/300 [==============================] - 120s 400ms/step - loss: 0.0823 - accuracy: 0.3908 - val_loss: 0.0797 - val_accuracy: 0.3808\n",
      "Epoch 3/10\n",
      "300/300 [==============================] - 124s 414ms/step - loss: 0.0739 - accuracy: 0.3925 - val_loss: 0.0822 - val_accuracy: 0.3770\n",
      "Epoch 4/10\n",
      "300/300 [==============================] - 119s 397ms/step - loss: 0.0654 - accuracy: 0.3901 - val_loss: 0.0756 - val_accuracy: 0.3766\n",
      "Epoch 5/10\n",
      "300/300 [==============================] - 123s 412ms/step - loss: 0.0586 - accuracy: 0.3935 - val_loss: 0.0735 - val_accuracy: 0.3802\n",
      "Epoch 6/10\n",
      "300/300 [==============================] - 95s 317ms/step - loss: 0.0510 - accuracy: 0.4010 - val_loss: 0.0763 - val_accuracy: 0.3864\n",
      "Epoch 7/10\n",
      "300/300 [==============================] - 90s 299ms/step - loss: 0.0438 - accuracy: 0.3925 - val_loss: 0.0781 - val_accuracy: 0.3827\n",
      "Epoch 8/10\n",
      "300/300 [==============================] - 90s 302ms/step - loss: 0.0331 - accuracy: 0.4050 - val_loss: 0.0807 - val_accuracy: 0.3748\n",
      "Epoch 9/10\n",
      "300/300 [==============================] - 133s 445ms/step - loss: 0.0258 - accuracy: 0.3982 - val_loss: 0.0824 - val_accuracy: 0.3777\n",
      "Epoch 10/10\n",
      "300/300 [==============================] - 125s 416ms/step - loss: 0.0174 - accuracy: 0.3997 - val_loss: 0.0803 - val_accuracy: 0.3743\n"
     ]
    }
   ],
   "source": [
    "history = model.fit(batch_generator(x_train, y_train, 51), steps_per_epoch = 300, epochs = 10, validation_data = batch_generator(x_test, y_test,64), validation_steps =200)"
   ]
  },
  {
   "cell_type": "code",
   "execution_count": 21,
   "id": "495fab48",
   "metadata": {},
   "outputs": [
    {
     "data": {
      "text/plain": [
       "[0.9810619354248047,\n",
       " 0.0823417603969574,\n",
       " 0.07388722896575928,\n",
       " 0.06535743921995163,\n",
       " 0.05856718868017197,\n",
       " 0.050985999405384064,\n",
       " 0.043775323778390884,\n",
       " 0.03309154137969017,\n",
       " 0.025768626481294632,\n",
       " 0.01741650141775608]"
      ]
     },
     "execution_count": 21,
     "metadata": {},
     "output_type": "execute_result"
    }
   ],
   "source": [
    "history.history['loss']"
   ]
  },
  {
   "cell_type": "code",
   "execution_count": null,
   "id": "4452f468",
   "metadata": {},
   "outputs": [],
   "source": [
    "history.history['val_loss']"
   ]
  },
  {
   "cell_type": "code",
   "execution_count": 23,
   "id": "d33732f5",
   "metadata": {},
   "outputs": [
    {
     "data": {
      "text/plain": [
       "<function matplotlib.pyplot.imshow(X, cmap=None, norm=None, aspect=None, interpolation=None, alpha=None, vmin=None, vmax=None, origin=None, extent=None, *, filternorm=True, filterrad=4.0, resample=None, url=None, data=None, **kwargs)>"
      ]
     },
     "execution_count": 23,
     "metadata": {},
     "output_type": "execute_result"
    },
    {
     "data": {
      "image/png": "[encoded data removed]",
      "text/plain": [
       "<Figure size 432x288 with 1 Axes>"
      ]
     },
     "metadata": {
      "needs_background": "light"
     },
     "output_type": "display_data"
    }
   ],
   "source": [
    "plt.plot(history.history['loss'])\n",
    "plt.xlabel(\"Epoch\")\n",
    "plt.ylabel(\"Loss\")\n",
    "plt.imshow"
   ]
  },
  {
   "cell_type": "code",
   "execution_count": 24,
   "id": "2a3b1e69",
   "metadata": {},
   "outputs": [
    {
     "data": {
      "text/plain": [
       "<function matplotlib.pyplot.imshow(X, cmap=None, norm=None, aspect=None, interpolation=None, alpha=None, vmin=None, vmax=None, origin=None, extent=None, *, filternorm=True, filterrad=4.0, resample=None, url=None, data=None, **kwargs)>"
      ]
     },
     "execution_count": 24,
     "metadata": {},
     "output_type": "execute_result"
    },
    {
     "data": {
      "image/png": "[encoded data removed]",
      "text/plain": [
       "<Figure size 432x288 with 1 Axes>"
      ]
     },
     "metadata": {
      "needs_background": "light"
     },
     "output_type": "display_data"
    }
   ],
   "source": [
    "plt.plot(history.history['val_loss'])\n",
    "plt.xlabel(\"Epoch\")\n",
    "plt.ylabel(\"Val_Loss\")\n",
    "plt.imshow"
   ]
  },
  {
   "cell_type": "code",
   "execution_count": 25,
   "id": "4e58ca86",
   "metadata": {},
   "outputs": [],
   "source": [
    "model.save('12_Epoch_Model.h5')"
   ]
  },
  {
   "cell_type": "code",
   "execution_count": 26,
   "id": "592df6e3",
   "metadata": {},
   "outputs": [],
   "source": [
    "model = load_model('12_Epoch_Model.h5')"
   ]
  },
  {
   "cell_type": "code",
   "execution_count": 27,
   "id": "a283e2b1",
   "metadata": {},
   "outputs": [
    {
     "name": "stdout",
     "output_type": "stream",
     "text": [
      "Model: \"sequential_2\"\n",
      "_________________________________________________________________\n",
      "Layer (type)                 Output Shape              Param #   \n",
      "=================================================================\n",
      "conv2d_10 (Conv2D)           (None, 31, 98, 24)        1824      \n",
      "_________________________________________________________________\n",
      "conv2d_11 (Conv2D)           (None, 14, 47, 36)        21636     \n",
      "_________________________________________________________________\n",
      "conv2d_12 (Conv2D)           (None, 5, 22, 48)         43248     \n",
      "_________________________________________________________________\n",
      "conv2d_13 (Conv2D)           (None, 3, 20, 64)         27712     \n",
      "_________________________________________________________________\n",
      "conv2d_14 (Conv2D)           (None, 1, 18, 64)         36928     \n",
      "_________________________________________________________________\n",
      "flatten_2 (Flatten)          (None, 1152)              0         \n",
      "_________________________________________________________________\n",
      "dense_8 (Dense)              (None, 100)               115300    \n",
      "_________________________________________________________________\n",
      "dense_9 (Dense)              (None, 50)                5050      \n",
      "_________________________________________________________________\n",
      "dense_10 (Dense)             (None, 10)                510       \n",
      "_________________________________________________________________\n",
      "dense_11 (Dense)             (None, 1)                 11        \n",
      "=================================================================\n",
      "Total params: 252,219\n",
      "Trainable params: 252,219\n",
      "Non-trainable params: 0\n",
      "_________________________________________________________________\n"
     ]
    }
   ],
   "source": [
    "model.summary()"
   ]
  },
  {
   "cell_type": "code",
   "execution_count": null,
   "id": "a0ad8adf",
   "metadata": {},
   "outputs": [],
   "source": []
  }
 ],
 "metadata": {
  "kernelspec": {
   "display_name": "Python 3",
   "language": "python",
   "name": "python3"
  },
  "language_info": {
   "codemirror_mode": {
    "name": "ipython",
    "version": 3
   },
   "file_extension": ".py",
   "mimetype": "text/x-python",
   "name": "python",
   "nbconvert_exporter": "python",
   "pygments_lexer": "ipython3",
   "version": "3.8.8"
  }
 },
 "nbformat": 4,
 "nbformat_minor": 5
}
